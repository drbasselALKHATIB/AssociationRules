{
 "cells": [
  {
   "cell_type": "code",
   "execution_count": null,
   "metadata": {},
   "outputs": [],
   "source": [
    "# المناقلات\n",
    "transactions = [['Bread', 'Milk'],\n",
    "['Bread', 'Diaper', 'Beer', 'Eggs'],\n",
    "['Milk', 'Diaper', 'Beer', 'Coke' ],\n",
    "['Bread', 'Milk', 'Diaper', 'Beer'],\n",
    "['Bread', 'Milk', 'Diaper', 'Coke']]\n",
    "\n",
    "# مكتبة ترميز المناقلات\n",
    "from mlxtend.preprocessing import TransactionEncoder\n",
    "\n",
    "# إنشاء غرض من الصف \n",
    "te = TransactionEncoder()\n",
    "# ملائمة المرمز مع البيانات\n",
    "te_model = te.fit(transactions)\n",
    "# تحويل المناقلات \n",
    "rows=te_model.transform(transactions)\n",
    "# استيراد مكتبة إطار البيانات\n",
    "import pandas as pd\n",
    "# بناء إطار بيانات المناقلات \n",
    "df = pd.DataFrame(rows, columns=te_model.columns_)\n",
    "print(df)"
   ]
  },
  {
   "cell_type": "code",
   "execution_count": null,
   "metadata": {},
   "outputs": [],
   "source": [
    "# مكتبة خوارزمية إيجاد العناصر المتواترة\n",
    "from mlxtend.frequent_patterns import apriori\n",
    "# استدعاء الدالة\n",
    "frequent_itemsets = apriori(df, min_support=0.4, use_colnames=True)\n",
    "# حساب أطوال مجموعات العناصر\n",
    "frequent_itemsets['length'] = frequent_itemsets['itemsets'].apply(lambda x: len(x))\n",
    "print(frequent_itemsets)"
   ]
  },
  {
   "cell_type": "code",
   "execution_count": 8,
   "metadata": {},
   "outputs": [
    {
     "name": "stdout",
     "output_type": "stream",
     "text": [
      "     antecedents consequents  antecedent support  consequent support  support  \\\n",
      "0         (Beer)    (Diaper)                 0.6                 0.8      0.6   \n",
      "1         (Coke)    (Diaper)                 0.4                 0.8      0.4   \n",
      "2         (Coke)      (Milk)                 0.4                 0.8      0.4   \n",
      "3  (Bread, Beer)    (Diaper)                 0.4                 0.8      0.4   \n",
      "4   (Milk, Beer)    (Diaper)                 0.4                 0.8      0.4   \n",
      "\n",
      "   confidence  lift  leverage  conviction  \n",
      "0         1.0  1.25      0.12         inf  \n",
      "1         1.0  1.25      0.08         inf  \n",
      "2         1.0  1.25      0.08         inf  \n",
      "3         1.0  1.25      0.08         inf  \n",
      "4         1.0  1.25      0.08         inf  \n"
     ]
    }
   ],
   "source": [
    "# مكتبة خوارزمية إيجاد العناصر المتواترة\n",
    "from mlxtend.frequent_patterns import association_rules\n",
    "rules = association_rules(frequent_itemsets)\n",
    "# الترتيب التنازلي وفق معامل الثقة\n",
    "rules = rules.sort_values(['confidence'], ascending =[False])\n",
    "print(rules.head())"
   ]
  }
 ],
 "metadata": {
  "interpreter": {
   "hash": "d2fd1712c554f8889508812666ba4bc21c7777a295a23bffb89c1e51af69960c"
  },
  "kernelspec": {
   "display_name": "Python 3.8.10 ('asoc': venv)",
   "language": "python",
   "name": "python3"
  },
  "language_info": {
   "codemirror_mode": {
    "name": "ipython",
    "version": 3
   },
   "file_extension": ".py",
   "mimetype": "text/x-python",
   "name": "python",
   "nbconvert_exporter": "python",
   "pygments_lexer": "ipython3",
   "version": "3.8.10"
  },
  "orig_nbformat": 4
 },
 "nbformat": 4,
 "nbformat_minor": 2
}
